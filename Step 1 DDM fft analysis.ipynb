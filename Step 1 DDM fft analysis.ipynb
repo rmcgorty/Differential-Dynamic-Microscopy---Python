{
 "cells": [
  {
   "cell_type": "markdown",
   "metadata": {},
   "source": [
    "# You have taken your videos, but what REALLY is going on in your samples?"
   ]
  },
  {
   "cell_type": "markdown",
   "metadata": {},
   "source": [
    "Rather than manually track how your beads, DNA samples, or active particles are moving, we are going to use a nifty technique called Differential Dynamic Microscopy to exract important the information. \n",
    "\n",
    "So, let's begin. Load in all of the python modules in the following cell. (It's ok for the red warning signs to appear...It will still run!)"
   ]
  },
  {
   "cell_type": "code",
   "execution_count": 2,
   "metadata": {},
   "outputs": [],
   "source": [
    "import numpy as np\n",
    "%matplotlib notebook\n",
    "import matplotlib\n",
    "from matplotlib import pyplot as plt\n",
    "\n",
    "from IPython.html.widgets import interact, fixed\n",
    "import ipywidgets as widgets\n",
    "\n",
    "import io \n",
    "\n",
    "font_plt = {'family': 'serif',\n",
    "            'color':  'darkred',\n",
    "            'weight': 'normal',\n",
    "            'size': 10,\n",
    "            }\n",
    "font_plt_ax = {'family': 'serif',\n",
    "               'color':  'black',\n",
    "               'weight': 'normal',\n",
    "               'size': 10,\n",
    "              }\n",
    "import sys\n",
    "import glob #glob is helpful for searching for filenames or directories\n",
    "import ddm_clean as ddm #this is the module containing the differential dynamic microscopy code\n",
    "import scipy #scientific python\n",
    "from scipy.signal import blackmanharris as bh #for Blackman-Harris windowing\n",
    "import pickle #for saving data"
   ]
  },
  {
   "cell_type": "markdown",
   "metadata": {},
   "source": [
    "Load in the data directory. I like to have a separate folder for just .tif files, to keep things more organized. You can do this or a different system. \n",
    "\n",
    "The function glob.glob will pull out files with the specific qualities that you require. Here we want files ending with 'ome.tif' so we add the ** in front of 'ome.tif' to mark that there can be anything before the ome.tif. \n",
    "\n",
    "If there are multiple files they will then be sorted into the list named files."
   ]
  },
  {
   "cell_type": "code",
   "execution_count": null,
   "metadata": {},
   "outputs": [],
   "source": [
    "Data_dir = \"Z:\\\\NameofDirectoryHoldingyourVideoFiles\\\\Theseshouldbe.tifFiles\\\\\"\n",
    "files = glob.glob(Data_dir+\"**ome.tif\")\n",
    "files.sort()"
   ]
  },
  {
   "cell_type": "markdown",
   "metadata": {},
   "source": [
    "Next we will set a few parameters and limits for our analysis.\n",
    "\n",
    "You will have taken videos with upwards of 1000 frames (for DNA videos they are perferably 3000+). These videos can be broken up into groups of different frame differences. We can control what the frame differences are by changing the endframelag variable. \n",
    "\n",
    "We have mostly used 998, 1998, and 2998 depending on the number of frames in the video. For more than 3000 frames I tend to use 2998. \n",
    "\n",
    "We can also change the number of values sampled out of those different time lags (frame differences). Usually we choose 400, but for a quick overview of how the code work we can stick with 20. "
   ]
  },
  {
   "cell_type": "code",
   "execution_count": null,
   "metadata": {},
   "outputs": [],
   "source": [
    "endframelag = 998\n",
    "numvaluessampled = 20\n",
    "\n",
    "dts = ddm_clean.genLogDist(1,endframelag,numvaluessampled)\n"
   ]
  },
  {
   "cell_type": "markdown",
   "metadata": {},
   "source": [
    "Now we are going to set the region of interest we are going to analyze. FFTs work well with dimensions of 2^n, so keep that in mind when choosing your region of interest (ROI). \n",
    "\n",
    "For DNA videos we have been doing 256x256 px ROIs, usually the videos are 1280x256 so we get 5 ROIs per video.\n",
    "\n",
    "In the cell below, label your ROI in the variable ROI (if you were to do more ROIs you can label them in a list form)"
   ]
  },
  {
   "cell_type": "markdown",
   "metadata": {},
   "source": [
    "Only one ROI: run the cell below\n",
    "\n",
    "There is a separate version (two cells down) if you have multiple ROIs to run"
   ]
  },
  {
   "cell_type": "code",
   "execution_count": null,
   "metadata": {},
   "outputs": [],
   "source": [
    "ROI_v = 'Center'\n",
    "\n",
    "ran_v = 256\n",
    "\n",
    "ran2_v = 512\n",
    "\n",
    "# you will want to change the initial y and end y values depending on the size of your video and where you want your ROI to be.\n",
    "inty_value = 5\n",
    "\n",
    "endy_value = 261"
   ]
  },
  {
   "cell_type": "markdown",
   "metadata": {},
   "source": [
    "Now, the actual meat of the code! This for loop will run through all of the videos in the list named files (from earlier cell). This will only analyze one ROI and will do so for the region you created above.\n",
    "\n",
    "All of the FFT files will be saved to the file where the videos are taken from, but you can move them after the code has finished. \n",
    "\n",
    "This code can take a while to run, especially if the numvaluessampled variable is 400. \n",
    "\n",
    "Run the next cell to truly begin analysis"
   ]
  },
  {
   "cell_type": "code",
   "execution_count": 3,
   "metadata": {},
   "outputs": [],
   "source": [
    "#Sometimes it is helpful to apply a window function to the images (deals with beads/molecules leaving the field of view)\n",
    "def window_function(im):\n",
    "    numPixels = im.shape[1]\n",
    "    x,y = np.meshgrid(bh(numPixels),bh(numPixels))\n",
    "    filter_func = x*y\n",
    "    return filter_func"
   ]
  },
  {
   "cell_type": "code",
   "execution_count": 4,
   "metadata": {},
   "outputs": [
    {
     "ename": "NameError",
     "evalue": "name 'files' is not defined",
     "output_type": "error",
     "traceback": [
      "\u001b[1;31m---------------------------------------------------------------------------\u001b[0m",
      "\u001b[1;31mNameError\u001b[0m                                 Traceback (most recent call last)",
      "\u001b[1;32m<ipython-input-4-7befdac2f317>\u001b[0m in \u001b[0;36m<module>\u001b[1;34m\u001b[0m\n\u001b[0;32m      1\u001b[0m \u001b[0mapply_window_filter\u001b[0m \u001b[1;33m=\u001b[0m \u001b[1;32mFalse\u001b[0m\u001b[1;33m\u001b[0m\u001b[1;33m\u001b[0m\u001b[0m\n\u001b[1;32m----> 2\u001b[1;33m \u001b[1;32mfor\u001b[0m \u001b[0mi\u001b[0m \u001b[1;32min\u001b[0m \u001b[0mrange\u001b[0m\u001b[1;33m(\u001b[0m\u001b[0mlen\u001b[0m\u001b[1;33m(\u001b[0m\u001b[0mfiles\u001b[0m\u001b[1;33m)\u001b[0m\u001b[1;33m)\u001b[0m\u001b[1;33m:\u001b[0m\u001b[1;33m\u001b[0m\u001b[1;33m\u001b[0m\u001b[0m\n\u001b[0m\u001b[0;32m      3\u001b[0m \u001b[1;33m\u001b[0m\u001b[0m\n\u001b[0;32m      4\u001b[0m     \u001b[0mim\u001b[0m \u001b[1;33m=\u001b[0m \u001b[0mtiff_file\u001b[0m\u001b[1;33m.\u001b[0m\u001b[0mimread\u001b[0m\u001b[1;33m(\u001b[0m\u001b[0mfiles\u001b[0m\u001b[1;33m)\u001b[0m\u001b[1;33m\u001b[0m\u001b[1;33m\u001b[0m\u001b[0m\n\u001b[0;32m      5\u001b[0m \u001b[1;33m\u001b[0m\u001b[0m\n",
      "\u001b[1;31mNameError\u001b[0m: name 'files' is not defined"
     ]
    }
   ],
   "source": [
    "apply_window_filter = False\n",
    "for i in range(len(files)):\n",
    "    \n",
    "    im = tiff_file.imread(files)\n",
    "    \n",
    "    if apply_window_filter:\n",
    "        filterfunction = window_function(im) #Blackmann-Harris windowing applied\n",
    "    else:\n",
    "        filterfunction = np.ones_like(im[0]) #array of ones\n",
    "    \n",
    "    fft,dtsB = ddm_clean.getFFTDiffsAtTimes(im[:,inty_value:endy_value,ran_v:ran2_v]*filterfunction, dts, \n",
    "                                            every=None, limitImsTo=None, submean=True)\n",
    "    ravs = ddm_clean.radialAvFFTs_v2(fft)\n",
    "    dts_fft = {'dts':dts, 'ffts':fft, 'ravs':ravs}\n",
    "    if apply_window_filter:\n",
    "        pickle.dump(dts_fft, open(files[i][:-4]+\"_\"+ROI_v+\"_BH-filter_128x128_FFTDIFFS_dts_ravs.p\",'wb'))\n",
    "    else:\n",
    "        pickle.dump(dts_fft, open(files[i][:-4]+\"_\"+ROI_v+\"_128x128_FFTDIFFS_dts_ravs.p\",'wb'))"
   ]
  },
  {
   "cell_type": "markdown",
   "metadata": {},
   "source": [
    "Multiple ROIs: run the cell below \n",
    "\n",
    "The cell following the next is the same as the one above, but has a second for loop to run through the multiple ROIs. \n",
    "\n",
    "The y values do not need to change. "
   ]
  },
  {
   "cell_type": "code",
   "execution_count": 5,
   "metadata": {},
   "outputs": [],
   "source": [
    "ROI = ['0', '1', '2', '3']\n",
    "\n",
    "ranx1 = [0, 256, 0, 256]\n",
    "ranx2 = [256,512,256,512]\n",
    "rany1 = [0,0,256,256]\n",
    "rany2 = [256,256,512,512]\n",
    "\n",
    "# you will want to change the initial y and end y values depending on the size of your video and where you want your ROI to be.\n",
    "inty_value = 5\n",
    "\n",
    "endy_value = 261"
   ]
  },
  {
   "cell_type": "code",
   "execution_count": null,
   "metadata": {},
   "outputs": [],
   "source": [
    "apply_window_filter = False\n",
    "for i in range(len(files)):\n",
    "    \n",
    "    im = tiff_file.imread(files)\n",
    "    \n",
    "    for j in range(len(ROI)):\n",
    "        \n",
    "        roid_image = im[:, rany1[j]:rany2[j], ranx1[j]:ranx2[j]]\n",
    "        \n",
    "        if apply_window_filter:\n",
    "            filterfunction = window_function(roid_image) #Blackmann-Harris windowing applied\n",
    "        else:\n",
    "            filterfunction = np.ones_like(roid_image[0]) #array of ones\n",
    "        \n",
    "        fft,dtsB = ddm_clean.getFFTDiffsAtTimes(roid_image*filterfunction, dts, every=None, limitImsTo=None, submean=True)\n",
    "        ravs = ddm_clean.radialAvFFTs_v2(fft)\n",
    "        dts_fft = {'dts':dts, 'ffts':fft, 'ravs':ravs}\n",
    "        if apply_window_filter:\n",
    "            pickle.dump(dts_fft, open(files[i][:-4]+\"_\"+ROI[j]+\"_BH-filter_128x128_FFTDIFFS_dts_ravs.p\",'wb'))\n",
    "        else:\n",
    "            pickle.dump(dts_fft, open(files[i][:-4]+\"_\"+ROI[j]+\"_128x128_FFTDIFFS_dts_ravs.p\",'wb'))"
   ]
  },
  {
   "cell_type": "markdown",
   "metadata": {},
   "source": [
    "Once this code has finished running continue on to Step 2. DDM fitting ravs to find taus"
   ]
  },
  {
   "cell_type": "code",
   "execution_count": null,
   "metadata": {},
   "outputs": [],
   "source": []
  }
 ],
 "metadata": {
  "kernelspec": {
   "display_name": "Python 3",
   "language": "python",
   "name": "python3"
  },
  "language_info": {
   "codemirror_mode": {
    "name": "ipython",
    "version": 3
   },
   "file_extension": ".py",
   "mimetype": "text/x-python",
   "name": "python",
   "nbconvert_exporter": "python",
   "pygments_lexer": "ipython3",
   "version": "3.8.5"
  }
 },
 "nbformat": 4,
 "nbformat_minor": 2
}
