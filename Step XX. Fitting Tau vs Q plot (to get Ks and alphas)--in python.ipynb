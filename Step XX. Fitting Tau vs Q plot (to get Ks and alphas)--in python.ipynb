{
 "cells": [
  {
   "cell_type": "markdown",
   "metadata": {},
   "source": [
    "## After you have analyzed all of the data and now you want to find out what the dynamics are within the samples"
   ]
  },
  {
   "cell_type": "markdown",
   "metadata": {},
   "source": [
    "again, load in necessary python modules"
   ]
  },
  {
   "cell_type": "code",
   "execution_count": null,
   "metadata": {},
   "outputs": [],
   "source": [
    "import numpy as np\n",
    "import matplotlib\n",
    "matplotlib.use('TkAgg')\n",
    "from matplotlib import pyplot as plt\n",
    "\n",
    "from IPython.html.widgets import interact, fixed\n",
    "import ipywidgets as widgets\n",
    "\n",
    "import io \n",
    "\n",
    "font_plt = {'family': 'serif',\n",
    "            'color':  'darkred',\n",
    "            'weight': 'normal',\n",
    "            'size': 10,\n",
    "            }\n",
    "font_plt_ax = {'family': 'serif',\n",
    "               'color':  'black',\n",
    "               'weight': 'normal',\n",
    "               'size': 10,\n",
    "              }\n",
    "import sys\n",
    "import glob #glob is helpful for searching for filenames or directories"
   ]
  },
  {
   "cell_type": "code",
   "execution_count": null,
   "metadata": {},
   "outputs": [],
   "source": [
    "sys.path.append('Z:\\\\Code\\\\PythonCode\\\\Differential-Dynamic-Microscopy---Python') \n",
    "import ddm_clean as ddm #this is the module containing the differential dynamic microscopy code"
   ]
  },
  {
   "cell_type": "code",
   "execution_count": null,
   "metadata": {},
   "outputs": [],
   "source": [
    "import scipy #scientific python\n",
    "import pickle #for saving data\n",
    "\n",
    "%matplotlib notebook\n",
    "import matplotlib\n",
    "import matplotlib.pyplot as plt\n"
   ]
  },
  {
   "cell_type": "code",
   "execution_count": null,
   "metadata": {},
   "outputs": [],
   "source": [
    "newt = lambda t,s: (1./s)*gamma(1./s)*t\n",
    "framerate = 18.0\n",
    "px = 0.194\n",
    "imDimension = 256\n",
    "q = np.arange(0,imDimension/2)*2*np.pi*(1./(imDimension*(px))) "
   ]
  },
  {
   "cell_type": "markdown",
   "metadata": {},
   "source": [
    "Load in the data from step 2."
   ]
  },
  {
   "cell_type": "code",
   "execution_count": null,
   "metadata": {},
   "outputs": [],
   "source": [
    "datadirectory = \"Z:\\\\Where\\\\Your\\\\Data\\\\theRAVs\\\\are\\\\stored\\\\\"\n",
    "datafile = \"file_where_you_saved_data_from_step_2.p\"\n",
    "Data = pickle.load(open(datadirectory+datafile,'rb'))"
   ]
  },
  {
   "cell_type": "code",
   "execution_count": null,
   "metadata": {},
   "outputs": [],
   "source": [
    "Topology = \"linear\"\n",
    "Condition = \"buffer\"\n",
    "video = \"1\"\n",
    "roi = \"0\""
   ]
  },
  {
   "cell_type": "code",
   "execution_count": null,
   "metadata": {},
   "outputs": [],
   "source": [
    "ravs = Data['ravs_'+Topology+'_'+Condition+'_'+video+'_'+roi]\n",
    "fits = Data['fitparams_'+Topology+'_'+Condition+'_'+video+'_'+roi]"
   ]
  },
  {
   "cell_type": "markdown",
   "metadata": {},
   "source": [
    "After loading in all of the data, initialize the arrays that you will store the transport coefficients and alpha values within."
   ]
  },
  {
   "cell_type": "code",
   "execution_count": null,
   "metadata": {},
   "outputs": [],
   "source": [
    "alphs = np.zeros(numberofROIsandvideos)\n",
    "difs = np.zeros(numberofROIsandvideos)"
   ]
  },
  {
   "cell_type": "markdown",
   "metadata": {},
   "source": [
    "now we want to look at the newt taus (this \"fixed\" by the alpha value)"
   ]
  },
  {
   "cell_type": "code",
   "execution_count": null,
   "metadata": {},
   "outputs": [],
   "source": [
    "tau0 = newt(fits[:,1],fits[:,3])"
   ]
  },
  {
   "cell_type": "code",
   "execution_count": null,
   "metadata": {},
   "outputs": [],
   "source": [
    "l = 0 # change to represent the video number and ROI you are on. "
   ]
  },
  {
   "cell_type": "markdown",
   "metadata": {},
   "source": [
    "next you will choose a region (a range of q values) that you think are good."
   ]
  },
  {
   "cell_type": "code",
   "execution_count": null,
   "metadata": {},
   "outputs": [],
   "source": [
    "w = np.where((q<2.9)&(q>.88))\n",
    "r = np.polyfit(np.log(q[w[0]]),np.log(tau0[w[0]]),1)"
   ]
  },
  {
   "cell_type": "markdown",
   "metadata": {},
   "source": [
    "The next cell will plot the calculated transport and alpha value for the region you set above, if it doesn't fit weel enough keep changing the region. "
   ]
  },
  {
   "cell_type": "code",
   "execution_count": null,
   "metadata": {},
   "outputs": [],
   "source": [
    "power = r[0]\n",
    "yint = np.exp((-1)*r[1])\n",
    "alpha = 2.0/float((-1)*power)\n",
    "\n",
    "fig = plt.figure();\n",
    "ax = plt.gca()\n",
    "ax.loglog(q[:-1],tau0,color='r',marker='o',linestyle ='',markersize=3,alpha=1)\n",
    "ax.plot(q, (1./diffusion_coeff) * (q**power), '-k', label=\"K = %.3f , alpha = %.2f \" % (diffusion_coeff, alpha))\n",
    "ax.set_xlim(0.1,5.7)           \n",
    "ax.set_xlabel('Spatial Frequencies', fontdict=font_plt_ax)\n",
    "ax.set_ylabel('Decay Times', fontdict=font_plt_ax)\n",
    "ax.legend()"
   ]
  },
  {
   "cell_type": "markdown",
   "metadata": {},
   "source": [
    "once you have decided that the fits look good, you should save the important values into their arrays (which you do in the following cell)"
   ]
  },
  {
   "cell_type": "code",
   "execution_count": null,
   "metadata": {},
   "outputs": [],
   "source": [
    "alphs[l] = alpha\n",
    "diffusion_coeff = yint \n",
    "difs[l] = diffusion_coeff"
   ]
  },
  {
   "cell_type": "markdown",
   "metadata": {},
   "source": [
    "Continue until you have looked at all of the videos you are trying to analyze (should be the same number as l)\n",
    "\n",
    "You will then save the alphs and difs arrays as a dictionary and as a csv file (so that you have them saved in two places!!)"
   ]
  },
  {
   "cell_type": "code",
   "execution_count": 1,
   "metadata": {},
   "outputs": [],
   "source": [
    "difs_alphs_dictionary = {} #comment out..."
   ]
  },
  {
   "cell_type": "code",
   "execution_count": null,
   "metadata": {},
   "outputs": [],
   "source": [
    "difs_alphs_dictionary[Topology+\" \"+Condition+\" \"+video+\" \"+roi+\" tansport coefficients\"] = difs\n",
    "difs_alphs_dictionary[Topology+\" \"+Condition+\" \"+video+\" \"+roi+\" alpha values\"] = alphs"
   ]
  },
  {
   "cell_type": "code",
   "execution_count": null,
   "metadata": {},
   "outputs": [],
   "source": [
    "pickle.dump(difs_alphs_dictionary,open(\"whatever and whereever you want the file name to be .p\",'wb'))\n",
    "np.savetxt(\"YourDirectory/Difs_\"+Topology+\"_\"+Condition+\"_\"+video+\"_\"+roi+\".csv\",difs,delimiter=',')\n",
    "np.savetxt(\"YourDirectory/Alphas_\"+Topology+\"_\"+Condition+\"_\"+video+\"_\"+roi+\".csv\",alphs,delimiter=',')"
   ]
  }
 ],
 "metadata": {
  "kernelspec": {
   "display_name": "Python 3",
   "language": "python",
   "name": "python3"
  },
  "language_info": {
   "codemirror_mode": {
    "name": "ipython",
    "version": 3
   },
   "file_extension": ".py",
   "mimetype": "text/x-python",
   "name": "python",
   "nbconvert_exporter": "python",
   "pygments_lexer": "ipython3",
   "version": "3.8.5"
  }
 },
 "nbformat": 4,
 "nbformat_minor": 2
}
