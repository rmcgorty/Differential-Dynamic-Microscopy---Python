{
 "cells": [
  {
   "cell_type": "markdown",
   "metadata": {},
   "source": [
    "## We are going to transfer data stored in the pickle files into csv's to work on Origin"
   ]
  },
  {
   "cell_type": "markdown",
   "metadata": {},
   "source": [
    "You will run this after step 2. This allows for you to get away from python if you want to. You can skip this step if you want to do more analysis using python. Up to you!"
   ]
  },
  {
   "cell_type": "markdown",
   "metadata": {},
   "source": [
    "We need to import the modules. Then, we need to load in the pickle files of the data. "
   ]
  },
  {
   "cell_type": "code",
   "execution_count": 2,
   "metadata": {},
   "outputs": [],
   "source": [
    "import numpy as np\n",
    "import scipy #scientific python\n",
    "import pickle #for saving data\n",
    "%matplotlib notebook\n",
    "import matplotlib\n",
    "from matplotlib import pyplot as plt\n",
    "\n",
    "\n",
    "import io \n",
    "\n",
    "font_plt = {'family': 'serif',\n",
    "            'color':  'darkred',\n",
    "            'weight': 'normal',\n",
    "            'size': 10,\n",
    "            }\n",
    "font_plt_ax = {'family': 'serif',\n",
    "               'color':  'black',\n",
    "               'weight': 'normal',\n",
    "               'size': 10,\n",
    "              }\n",
    "import sys\n",
    "import glob #glob is helpful for searching for filenames or directories"
   ]
  },
  {
   "cell_type": "markdown",
   "metadata": {},
   "source": [
    "You will need to make sure that the directory is the correct one containing the DDM code (otherwise this won't work)"
   ]
  },
  {
   "cell_type": "code",
   "execution_count": null,
   "metadata": {},
   "outputs": [],
   "source": [
    "sys.path.append('Z:\\\\Code\\\\PythonCode\\\\Differential-Dynamic-Microscopy---Python') \n",
    "import ddm_clean as ddm #this is the module containing the differential dynamic microscopy code"
   ]
  },
  {
   "cell_type": "markdown",
   "metadata": {},
   "source": [
    "Make sure these are all the same as what you used for step 2. You will be saving the q values for plotting in origin! "
   ]
  },
  {
   "cell_type": "code",
   "execution_count": null,
   "metadata": {},
   "outputs": [],
   "source": [
    "newt = lambda t,s: (1./s)*gamma(1./s)*t\n",
    "framerate = 18.0\n",
    "px = 0.194\n",
    "imDimension = 256\n",
    "q = np.arange(0,imDimension/2)*2*np.pi*(1./(imDimension*(px))) "
   ]
  },
  {
   "cell_type": "markdown",
   "metadata": {},
   "source": [
    "You will change the file directory and name of the file you are loading in to what you saved from the analysis you did in STEP 2!!!"
   ]
  },
  {
   "cell_type": "code",
   "execution_count": null,
   "metadata": {},
   "outputs": [],
   "source": [
    "datadirectory = \"Z:\\\\Where\\\\Your\\\\Data\\\\theRAVs\\\\are\\\\stored\\\\\"\n",
    "datafile = \"file_where_you_saved_data_from_step_2.p\""
   ]
  },
  {
   "cell_type": "markdown",
   "metadata": {},
   "source": [
    "We will now load in the file (which is a dictionary, you will need to make sure the read in function has a \"read binary\" term which is 'rb'."
   ]
  },
  {
   "cell_type": "code",
   "execution_count": null,
   "metadata": {},
   "outputs": [],
   "source": [
    "Thedatafiles = pickle.load(open(datadirectory+datafile,'rb'))"
   ]
  },
  {
   "cell_type": "code",
   "execution_count": null,
   "metadata": {},
   "outputs": [],
   "source": [
    "SampleName = 'Whatever you saved in STEP 2 or STEP 3'\n",
    "data = Thedatafiles[SampleName]\n",
    "fitparams = data['fitparams']\n",
    "theory = data['fitparams']"
   ]
  },
  {
   "cell_type": "markdown",
   "metadata": {},
   "source": [
    "Just keep changing the name of the file and data you are saving here to get them into separate csv files"
   ]
  },
  {
   "cell_type": "code",
   "execution_count": 17,
   "metadata": {},
   "outputs": [],
   "source": [
    "np.savetxt(\"YourDirectory/WhateverDataYoureSaving_\"+Topology[t]+\"_\"+Condition[c]+\"_\"+video+\"_\"+ROI+\".csv\",TheDataYouAreSaving\n",
    "           ,delimiter=',')"
   ]
  }
 ],
 "metadata": {
  "kernelspec": {
   "display_name": "Python 3",
   "language": "python",
   "name": "python3"
  },
  "language_info": {
   "codemirror_mode": {
    "name": "ipython",
    "version": 3
   },
   "file_extension": ".py",
   "mimetype": "text/x-python",
   "name": "python",
   "nbconvert_exporter": "python",
   "pygments_lexer": "ipython3",
   "version": "3.8.5"
  }
 },
 "nbformat": 4,
 "nbformat_minor": 2
}
