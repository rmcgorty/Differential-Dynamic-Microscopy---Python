{
 "cells": [
  {
   "cell_type": "markdown",
   "metadata": {},
   "source": [
    "# You have taken your videos, but what REALLY is going on in your samples?"
   ]
  },
  {
   "cell_type": "markdown",
   "metadata": {},
   "source": [
    "Rather than manually track how your beads, DNA samples, or active particles are moving, we are going to use a nifty technique called Differential Dynamic Microscopy to exract important the information. \n",
    "\n",
    "So, let's begin. Load in all of the python modules in the following cell. (It's ok for the red warning signs to appear...It will still run!)"
   ]
  },
  {
   "cell_type": "code",
   "execution_count": 9,
   "metadata": {},
   "outputs": [],
   "source": [
    "import numpy as np\n",
    "import matplotlib\n",
    "%matplotlib notebook\n",
    "from matplotlib import pyplot as plt\n",
    "\n",
    "from IPython.html.widgets import interact, fixed\n",
    "import ipywidgets as widgets\n",
    "\n",
    "import io \n",
    "\n",
    "font_plt = {'family': 'serif',\n",
    "            'color':  'darkred',\n",
    "            'weight': 'normal',\n",
    "            'size': 10,\n",
    "            }\n",
    "font_plt_ax = {'family': 'serif',\n",
    "               'color':  'black',\n",
    "               'weight': 'normal',\n",
    "               'size': 10,\n",
    "              }\n",
    "import sys\n",
    "import glob #glob is helpful for searching for filenames or directories\n",
    "import ddm_clean as ddm #this is the module containing the differential dynamic microscopy code\n",
    "import tiff_file\n",
    "import scipy #scientific python\n",
    "import pickle #for saving data"
   ]
  },
  {
   "cell_type": "code",
   "execution_count": 10,
   "metadata": {},
   "outputs": [],
   "source": [
    "%matplotlib notebook\n",
    "import matplotlib\n",
    "import matplotlib.pyplot as plt\n"
   ]
  },
  {
   "cell_type": "markdown",
   "metadata": {},
   "source": [
    "Load in the data directory. I like to have a separate folder for just .tif files, to keep things more organized. You can do this or a different system. \n",
    "\n",
    "The function glob.glob will pull out files with the specific qualities that you require. Here we want files ending with 'ome.tif' so we add the ** in front of 'ome.tif' to mark that there can be anything before the ome.tif. \n",
    "\n",
    "If there are multiple files they will then be sorted into the list named files."
   ]
  },
  {
   "cell_type": "code",
   "execution_count": 16,
   "metadata": {},
   "outputs": [
    {
     "name": "stdout",
     "output_type": "stream",
     "text": [
      "Found 2 files\n",
      "\tVideo_NoUV_2_MMStack_Pos0.ome.tif\n",
      "\tVideo_NoUV_2_MMStack_Pos0_2x2bin.tif\n"
     ]
    }
   ],
   "source": [
    "Data_dir = \"Z:\\\\KiraTommy_Summer2019\\\\Data\\\\2019-06-11_100nmTEMPOL_1-10_forDDM\\\\Video_5%\\\\\"\n",
    "files = glob.glob(Data_dir+\"*tif\")\n",
    "files.sort()\n",
    "print(\"Found %i files\" % len(files))\n",
    "for f in files: print('\\t'+f.split('\\\\')[-1])\n"
   ]
  },
  {
   "cell_type": "markdown",
   "metadata": {},
   "source": [
    "Next we will set a few parameters and limits for our analysis.\n",
    "\n",
    "You will have taken videos with upwards of 1000 frames (for DNA videos they are perferably 3000+). These videos can be broken up into groups of different frame differences. We can control what the frame differences are by changing the endframelag variable. \n",
    "\n",
    "We have mostly used 998, 1998, and 2998 depending on the number of frames in the video. For more than 3000 frames I tend to use 2998. \n",
    "\n",
    "We can also change the number of values sampled out of those different time lags (frame differences). Usually we choose 400, but for a quick overview of how the code work we can stick with 20. "
   ]
  },
  {
   "cell_type": "code",
   "execution_count": 12,
   "metadata": {},
   "outputs": [],
   "source": [
    "endframelag = 500\n",
    "numvaluessampled = 20\n",
    "\n",
    "dts = ddm.genLogDist(1,endframelag,numvaluessampled)\n"
   ]
  },
  {
   "cell_type": "code",
   "execution_count": 13,
   "metadata": {},
   "outputs": [
    {
     "name": "stdout",
     "output_type": "stream",
     "text": [
      "Analyzing file: Z:\\KiraTommy_Summer2019\\Data\\2019-06-11_100nmTEMPOL_1-10_forDDM\\Video_5%\\Video_NoUV_2_MMStack_Pos0_2x2bin.tif\n"
     ]
    }
   ],
   "source": [
    "file_to_analyze = files[1]\n",
    "print \"Analyzing file: %s\" % file_to_analyze\n",
    "im = tiff_file.imread(file_to_analyze)"
   ]
  },
  {
   "cell_type": "markdown",
   "metadata": {},
   "source": [
    "In the code block below, we define a mask we can apply to our data. Sometimes this mask helps produce cleaner data at the high spatial frequencies (large qs). "
   ]
  },
  {
   "cell_type": "code",
   "execution_count": 14,
   "metadata": {},
   "outputs": [],
   "source": [
    "import scipy\n",
    "from scipy.signal import blackmanharris as bh #for Blackman-Harris windowing\n",
    "\n",
    "numPixels = im.shape[1] #determining the number of pixels in an image (just in one dimension, but image should be square.)\n",
    "x,y = np.meshgrid(bh(numPixels),bh(numPixels)) \n",
    "mask = x*y \n",
    "im = im * mask"
   ]
  },
  {
   "cell_type": "code",
   "execution_count": 15,
   "metadata": {},
   "outputs": [],
   "source": [
    "start_frame = 0 #\n",
    "fft,dtsB = ddm.getFFTDiffsAtTimes(im[start_frame:,:,:], dts, every=None, limitImsTo=None, submean=True)\n",
    "ravs = ddm.radialAvFFTs_v2(fft)\n",
    "dts_fft = {'dts':dts, 'ffts':fft, 'ravs':ravs}\n",
    "pickle.dump(dts_fft, open(file_to_analyze+\"_BH_256x256_FFTDIFFS_dts_ravs.p\",'wb'))"
   ]
  },
  {
   "cell_type": "markdown",
   "metadata": {},
   "source": [
    "Once this code has finished running continue on to **Step 2**: DDM fitting of ravs to find taus."
   ]
  }
 ],
 "metadata": {
  "kernelspec": {
   "display_name": "Python 2",
   "language": "python",
   "name": "python2"
  },
  "language_info": {
   "codemirror_mode": {
    "name": "ipython",
    "version": 2
   },
   "file_extension": ".py",
   "mimetype": "text/x-python",
   "name": "python",
   "nbconvert_exporter": "python",
   "pygments_lexer": "ipython2",
   "version": "2.7.15"
  }
 },
 "nbformat": 4,
 "nbformat_minor": 2
}
